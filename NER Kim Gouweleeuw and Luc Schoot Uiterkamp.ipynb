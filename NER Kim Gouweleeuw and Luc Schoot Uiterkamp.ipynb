{
 "cells": [
  {
   "cell_type": "code",
   "execution_count": 9,
   "metadata": {
    "scrolled": false
   },
   "outputs": [],
   "source": [
    "import nltk\n",
    "from nltk.tag import StanfordNERTagger\n",
    "from nltk.tokenize import word_tokenize\n",
    "from itertools import groupby\n",
    "\n",
    "hamlet = nltk.corpus.gutenberg.raw('shakespeare-hamlet.txt')\n",
    "hamlet = nltk.word_tokenize(hamlet)\n",
    "\n",
    "\n",
    "jar_location = 'C:\\\\Users\\\\lucas\\\\Documents\\\\datascience\\\\nlp\\\\stanford-ner-2018-10-16\\\\stanford-ner.jar'\n",
    "model_location_3classes = 'C:\\\\Users\\\\lucas\\\\Documents\\\\datascience\\\\nlp\\\\stanford-ner-2018-10-16\\\\classifiers\\\\english.all.3class.distsim.crf.ser.gz'\n",
    "model_location_4classes = 'C:\\\\Users\\\\lucas\\\\Documents\\\\datascience\\\\nlp\\\\stanford-ner-2018-10-16\\\\classifiers\\\\english.conll.4class.distsim.crf.ser.gz'\n",
    "model_location_7classes = 'C:\\\\Users\\\\lucas\\\\Documents\\\\datascience\\\\nlp\\\\stanford-ner-2018-10-16\\\\classifiers\\\\english.muc.7class.distsim.crf.ser.gz'\n",
    "st3 = StanfordNERTagger(model_location_3classes,jar_location,encoding='utf-8')\n",
    "st4 = StanfordNERTagger(model_location_4classes,jar_location,encoding='utf-8')\n",
    "st7 = StanfordNERTagger(model_location_7classes,jar_location,encoding='utf-8')\n",
    "\n",
    "# tag hamlet text with 3, 4 and 7 class tagger\n",
    "text_ner3 = st3.tag(hamlet) \n",
    "text_ner4 = st4.tag(hamlet) \n",
    "text_ner7 = st7.tag(hamlet) "
   ]
  },
  {
   "cell_type": "code",
   "execution_count": 11,
   "metadata": {},
   "outputs": [
    {
     "name": "stdout",
     "output_type": "stream",
     "text": [
      "**** 3 classes ****\n",
      "309\n",
      "**** 4 classes ****\n",
      "482\n",
      "**** 7 classes ****\n",
      "176\n"
     ]
    }
   ],
   "source": [
    "def get_persons(tagged_text):\n",
    "    people = []\n",
    "    for tag, chunk in groupby(tagged_text, lambda x:x[1]):\n",
    "        name = ' '.join(w for w, t in chunk)\n",
    "        if (tag == \"PERSON\" and name not in people and (name != 'William Shakespeare')):\n",
    "            people.append(name)\n",
    "    return len(people)\n",
    "\n",
    "print(\"**** 3 classes ****\")\n",
    "print(get_persons(text_ner3))\n",
    "\n",
    "print(\"**** 4 classes ****\")\n",
    "print(get_persons(text_ner4))\n",
    "\n",
    "print(\"**** 7 classes ****\")\n",
    "print(get_persons(text_ner7))"
   ]
  }
 ],
 "metadata": {
  "kernelspec": {
   "display_name": "Python 3",
   "language": "python",
   "name": "python3"
  },
  "language_info": {
   "codemirror_mode": {
    "name": "ipython",
    "version": 3
   },
   "file_extension": ".py",
   "mimetype": "text/x-python",
   "name": "python",
   "nbconvert_exporter": "python",
   "pygments_lexer": "ipython3",
   "version": "3.7.4"
  }
 },
 "nbformat": 4,
 "nbformat_minor": 4
}
